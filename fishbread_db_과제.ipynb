{
 "cells": [
  {
   "cell_type": "markdown",
   "metadata": {},
   "source": [
    "1. sql문으로 users테이블에 user을 10명 추가해보자"
   ]
  },
  {
   "cell_type": "code",
   "execution_count": null,
   "metadata": {},
   "outputs": [],
   "source": [
    "INSERT INTO users (first_name, last_name, email, password, address, contact, gender)\n",
    "VALUES\n",
    "('해은','전','haeeun@oz.com','101081','백석동','010-5049-7731','FEMALE'),\n",
    "('소현','강','kang@oz.com','12345','백석동','010-2938-7489','FEMALE'),\n",
    "('쩐다','개','aooo@oz.com','3452','마포동','013-2836-2846','MALE'),\n",
    "('이름','성','name@name.net','348547','주엽동','282-4345-3566','MALE'),\n",
    "('점점','점','djfhe@naver.com','37519','연남동','182-2452-8692','FEMALE'),\n",
    "('우와','귀','duke@gmail.com','1243537','가좌동','293-2820-1234','MALE'),\n",
    "('상디','원','san@onepiece.com','384712','일산동','02-234-2145','MALE'),\n",
    "('루피','몽','monkyd@onepiece.com','10293','송내1동','2938-245-321','MALE'),\n",
    "('나미','나','nami@onepiece.com','2341','백마1동','231-235-2341','FEMALE'),\n",
    "('지막','마','xxxx@rast.com','2341','백석동','010-20394-2293','MALE');"
   ]
  },
  {
   "cell_type": "markdown",
   "metadata": {
    "id": "floxvBWNwz6f"
   },
   "source": [
    "##2. 재고 변동 이력 10개를 생성해보자."
   ]
  },
  {
   "cell_type": "markdown",
   "metadata": {
    "id": "0bBPVcdE4Z-x"
   },
   "source": [
    "stock 테이블에 랜덤 10개의 더미를 생성하는 코드"
   ]
  },
  {
   "cell_type": "code",
   "execution_count": null,
   "metadata": {
    "id": "jKQcclBEAl6C"
   },
   "outputs": [],
   "source": [
    "########## 랜덤한 데이터를 10개 생성하여  stocks_data 리스트에 추가하는 구문\n",
    "\n",
    "try:\n",
    "    with connection.cursor() as cursor:\n",
    "        stocks_data = [] #cursor.executemany()에서 생성된 여러행을 튜플 형식으로 저장되게 해준다.\n",
    "        for i in range(10):\n",
    "            raw_material_id = random.randint(1, 7)  # 1,7까지의 숫자중 랜덤한 값을 반환해줌\n",
    "            pre_quantity = random.randint(1, 100)\n",
    "            quantity = random.randint(1, 50)\n",
    "            change_type = random.choice(['IN', 'OUT', 'RETURNED', 'DISCARDED']) # 주어진 리스트에서 랜덤하게 하나의 항목을 선택\n",
    "            store_id = random.randint(1, 5)\n",
    "            create_at = fake.date_this_year() # 올해의 랜덤 날짜를 반환한다. faker 샛체를 통해 생성된 날짜는 자동으로 YYYY-MM-DD 형식이다.\n",
    "\n",
    "            stocks_data.append((raw_material_id, pre_quantity, quantity, change_type, store_id, create_at))\n",
    "            # 생성된 각 데이터를 튜플로 묶어  stocks_data 리스트에 추가한다\n",
    "            \n",
    "\n",
    "########  stocks_data 에 생성된 랜덤 데이터 여러개를 STOCKS 테이블에 한 번에 삽입해주는 구문--------------------------\n",
    "\n",
    "        cursor.executemany(\"\"\"\n",
    "                INSERT INTO stocks (raw_material_id, pre_quantity, quantity, change_type, store_id, create_at)\n",
    "                VALUES (%s, %s, %s, %s, %s, %s)\n",
    "                \"\"\"\n",
    "            , stocks_data)\n",
    "        # executemany는 여러개의 데이터를 한 번에 삽입살 떄 사용된다. 데이터를 삽입할 목록 > 삽입할 데이터 순으로 작성 된다.\n",
    "        #stocks_data에 들어있는 데이터를 삽입해준다는 의미가 된다.\n",
    "\n",
    "########### 변경사항을 커밋하고 연결을 종료시켜줌------------------------------------------------------\n",
    "\n",
    "\n",
    "        connection.commit() # 데이터베이스에 변경 사항을 commit 해준다.\n",
    "\n",
    "finally:\n",
    "    connection.close()\n",
    "\n"
   ]
  },
  {
   "cell_type": "markdown",
   "metadata": {
    "id": "Pz0wHIVjACji"
   },
   "source": [
    "##3. sql문으로 sales_items 테이블에 데이터 추가하기"
   ]
  },
  {
   "cell_type": "markdown",
   "metadata": {
    "id": "J8zg4GlYXFYu"
   },
   "source": [
    "sales_items에 데이터를 추가하기에 앞서 sales_records 테이블에 더미데이터를 삽입해줘야한다."
   ]
  },
  {
   "cell_type": "markdown",
   "metadata": {
    "id": "Hrx1aMN0XYY_"
   },
   "source": [
    "sales_items 에 데이터를 추가하는 구문"
   ]
  },
  {
   "cell_type": "code",
   "execution_count": null,
   "metadata": {
    "id": "eU7ETbBRGegc"
   },
   "outputs": [],
   "source": [
    "import random\n",
    "\n",
    "import pymysql\n",
    "from faker import Faker\n",
    "from pymysql.cursors import DictCursor\n",
    "\n",
    "fake = Faker()\n",
    "\n",
    "connection = pymysql.connect(\n",
    "    host= 'localhost',\n",
    "    user= 'root',\n",
    "    password= '651015',\n",
    "    db= 'fishbread_db',\n",
    "    charset='utf8mb4',\n",
    "    cursorclass=pymysql.cursors.DictCursor)\n",
    "\n",
    "try:\n",
    "    with connection.cursor() as cursor:\n",
    "\n",
    "        sql = \"\"\"\n",
    "            INSERT INTO sales_items (sales_record_id, product_id, quantity, created_at)\n",
    "            VALUES (%s, %s, %s, %s)\n",
    "        \"\"\"\n",
    "\n",
    "        values = (1, 3, 2, '2024-12-08 13:00:00')\n",
    "        cursor.execute(sql, values)\n",
    "        connection.commit()\n",
    "\n",
    "finally:\n",
    "    connection.close()\n"
   ]
  },
  {
   "cell_type": "markdown",
   "metadata": {
    "id": "cmZe5VwdXfd-"
   },
   "source": [
    "## 4. sql문으로 products 테이블에 본인만의 시그니처 메뉴를 추가하기"
   ]
  },
  {
   "cell_type": "code",
   "execution_count": null,
   "metadata": {
    "id": "FnbHkUuRYuz8"
   },
   "outputs": [],
   "source": [
    "import random\n",
    "\n",
    "import pymysql\n",
    "from faker import Faker\n",
    "from pymysql.cursors import DictCursor\n",
    "\n",
    "fake = Faker()\n",
    "\n",
    "connection = pymysql.connect(\n",
    "    host= 'localhost',\n",
    "    user= 'root',\n",
    "    password= '651015',\n",
    "    db= 'fishbread_db',\n",
    "    charset='utf8mb4',\n",
    "    cursorclass=pymysql.cursors.DictCursor)\n",
    "\n",
    "try:\n",
    "    with connection.cursor() as cursor:\n",
    "        sql = \"\"\"\n",
    "            INSERT INTO products (name, description, price)\n",
    "            VALUES (%s, %s, %s)\n",
    "        \"\"\"\n",
    "        values = ('Real fish Bun','붕어빵 안에 신선한 방어회가 들어가 있어요!','30.00' )  # sales_record_id, product_id, quantity, created_at\n",
    "        cursor.execute(sql, values)\n",
    "        connection.commit()\n",
    "\n",
    "finally:\n",
    "    connection.close()\n"
   ]
  },
  {
   "cell_type": "markdown",
   "metadata": {
    "id": "Jz8WEQQyZBB4"
   },
   "source": [
    "5. sql 문으로 user1과 user2를 각각 매장 id 5와 7에 소속되어있는 직원과 매니저로 변경하기"
   ]
  },
  {
   "cell_type": "code",
   "execution_count": null,
   "metadata": {
    "id": "Lb2IHrkqZMT6"
   },
   "outputs": [],
   "source": [
    "#user1\n",
    "UPDATE employees\n",
    "SET store_id = 5, type = 'staff'\n",
    "WHERE id = (SELECT id FROM users WHERE first_name = '해은');\n",
    "\n",
    "#user2\n",
    "UPDATE employees\n",
    "SET store_id = 7, type = 'manager'\n",
    "WHERE id = (SELECT id FROM users WHERE first_name = '상디');"
   ]
  }
 ],
 "metadata": {
  "colab": {
   "provenance": []
  },
  "kernelspec": {
   "display_name": "Python 3",
   "name": "python3"
  },
  "language_info": {
   "name": "python"
  }
 },
 "nbformat": 4,
 "nbformat_minor": 0
}
